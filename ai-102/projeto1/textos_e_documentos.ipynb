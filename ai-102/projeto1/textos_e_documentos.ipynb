{
 "cells": [
  {
   "cell_type": "code",
   "execution_count": null,
   "metadata": {},
   "outputs": [],
   "source": [
    "!pip install requests python-docx"
   ]
  },
  {
   "cell_type": "code",
   "execution_count": null,
   "metadata": {},
   "outputs": [],
   "source": [
    "import os\n",
    "import requests\n",
    "from docx import Document\n",
    "\n",
    "subscription_key = \"\"\n",
    "endpoint = \"\"\n",
    "location = \"\"\n",
    "language_destination = \"pt-br\"\n",
    "\n",
    "def translator_text(text, target_language):\n",
    "    path = \"/translate\"\n",
    "    constructed_url = endpoint + path\n",
    "    headers = {\n",
    "        \"Ocp-Apim-Subscription-Key\": subscription_key,\n",
    "        \"Ocp-Apim-Subscription-Region\": location,\n",
    "        \"Content-Type\": \"application/json\",\n",
    "        \"X-ClientTraceId\": str(os.random(16))\n",
    "    }\n",
    "\n",
    "    body = [{\n",
    "        \"text\": text\n",
    "    }]\n",
    "\n",
    "    params = {\n",
    "        \"api-version\": \"3.0\",\n",
    "        \"from\": \"en\",\n",
    "        \"to\": target_language\n",
    "    }\n",
    "\n",
    "    request = requests.post(constructed_url, params=params, headers=headers, json=body)\n",
    "    response = request.json()\n",
    "    return response[0][\"translations\"][0][\"text\"]"
   ]
  },
  {
   "cell_type": "code",
   "execution_count": null,
   "metadata": {},
   "outputs": [],
   "source": [
    "text = \"\"\n",
    "translator_text(text, language_destination)"
   ]
  },
  {
   "cell_type": "code",
   "execution_count": null,
   "metadata": {},
   "outputs": [],
   "source": [
    "def translate_document(path):\n",
    "    document = Document(path)\n",
    "    full_text = []\n",
    "    for paragraph in document.paragraphs:\n",
    "        translated_text = translator_text(paragraph.text, language_destination)\n",
    "        full_text.append(translated_text)\n",
    "    \n",
    "    translated_doc = Document()\n",
    "    for line in full_text:\n",
    "        translated_doc.add_paragraph(line)\n",
    "    path_translated = path.replace(\".docx\", f\" {language_destination}.docx\")\n",
    "    translated_doc.save(path_translated)\n",
    "    \n",
    "    return path_translated"
   ]
  },
  {
   "cell_type": "code",
   "execution_count": null,
   "metadata": {},
   "outputs": [],
   "source": [
    "input_file = \"\"\n",
    "translate_document(input_file)"
   ]
  }
 ],
 "metadata": {
  "language_info": {
   "name": "python"
  }
 },
 "nbformat": 4,
 "nbformat_minor": 2
}
