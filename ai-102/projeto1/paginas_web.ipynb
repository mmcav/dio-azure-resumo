{
 "cells": [
  {
   "cell_type": "code",
   "execution_count": null,
   "metadata": {},
   "outputs": [],
   "source": [
    "!pip install requests beaufitulsoup4 openai langchain-openai"
   ]
  },
  {
   "cell_type": "code",
   "execution_count": null,
   "metadata": {},
   "outputs": [],
   "source": [
    "import requests\n",
    "from bs4 import BeautifulSoup\n",
    "\n",
    "def extract_text_from_url(url):\n",
    "    response = requests.get(url)\n",
    "\n",
    "    if response.status_code == 200:\n",
    "        soup = BeautifulSoup(response.text, \"html.parser\")\n",
    "        for script_or_style in soup([\"script\", \"style\"]):\n",
    "            script_or_style.decompose()\n",
    "        texto = soup.get_text(separator=\" \")\n",
    "        linhas = (line.strip() for line in texto.splitline())\n",
    "        parts = (phrase.strip() for line in linhas for phrase in line.split(\" \"))\n",
    "        texto_limpo = \"\\n\".join(part for part in parts if part)\n",
    "        return texto_limpo\n",
    "    else:\n",
    "        print(f\"Failed to fetch the URL. Status code: {response.status_code}\")\n",
    "        return None\n",
    "\n",
    "url = \"\"\n",
    "extract_text_from_url(url)"
   ]
  },
  {
   "cell_type": "code",
   "execution_count": null,
   "metadata": {},
   "outputs": [],
   "source": [
    "from langchain_openai.chat_models.azure import AzureChatOpenAI\n",
    "\n",
    "client = AzureChatOpenAI(\n",
    "    azure_endpoint = \"\",\n",
    "    api_key = \"\",\n",
    "    api_version = \"2024-02-15-preview\",\n",
    "    deployment_name = \"gpt-4o-mini\",\n",
    "    max_retries=0\n",
    ")\n",
    "\n",
    "def translate_article(text, lang):\n",
    "    messages = [\n",
    "        {\"system\": \"Você atua como tradutor de textos\"},\n",
    "        {\"user\": f\"Traduza o texto {text} para o idioma {lang} e responda em markdown\"}\n",
    "    ]\n",
    "    response = client.invoke(messages)\n",
    "    print(response.content)\n",
    "    return response.content"
   ]
  },
  {
   "cell_type": "code",
   "execution_count": null,
   "metadata": {},
   "outputs": [],
   "source": [
    "url = \"\"\n",
    "text = extract_text_from_url(url)\n",
    "article = translate_article(text, \"pt-br\")"
   ]
  }
 ],
 "metadata": {
  "language_info": {
   "name": "python"
  }
 },
 "nbformat": 4,
 "nbformat_minor": 2
}
